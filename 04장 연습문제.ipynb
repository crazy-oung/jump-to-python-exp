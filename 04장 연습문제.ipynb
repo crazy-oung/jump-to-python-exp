{
 "cells": [
  {
   "cell_type": "code",
   "execution_count": 11,
   "metadata": {},
   "outputs": [
    {
     "name": "stdout",
     "output_type": "stream",
     "text": [
      "odd\n",
      "even\n"
     ]
    }
   ],
   "source": [
    "# Q1 주어진 자연수가 홀수인지 짝수인지 판별해 주는 함수(is_odd)를 작성해 보자.\n",
    "def is_odd(i):\n",
    " if(i%2): print(\"odd\")\n",
    " else: print(\"even\")\n",
    "    \n",
    "is_odd(1)\n",
    "is_odd(4)"
   ]
  },
  {
   "cell_type": "code",
   "execution_count": 13,
   "metadata": {},
   "outputs": [
    {
     "data": {
      "text/plain": [
       "5.0"
      ]
     },
     "execution_count": 13,
     "metadata": {},
     "output_type": "execute_result"
    }
   ],
   "source": [
    "# Q2 입력으로 들어오는 모든 수의 평균 값을 계산해 주는 함수를 작성\n",
    "def avg(*arr):\n",
    " sum =0;\n",
    " for i in arr: sum+=i\n",
    " return sum/len(arr)\n",
    "    \n",
    "avg(2, 4, 6, 8)"
   ]
  },
  {
   "cell_type": "code",
   "execution_count": 44,
   "metadata": {
    "scrolled": true
   },
   "outputs": [
    {
     "name": "stdout",
     "output_type": "stream",
     "text": [
      "첫 번째 숫자-> 1\n",
      "두 번째 숫자-> 4\n",
      "두수의 합은 5 입니다\n"
     ]
    }
   ],
   "source": [
    "# Q3 3과 6을 입력했을 때 9가 아닌 36이라는 결괏값을 돌려주었다. 오류 수정.\n",
    "input1 = input(\"첫 번째 숫자-> \")\n",
    "input2 = input(\"두 번째 숫자-> \")\n",
    "\n",
    "# 입력은 항상 문자열, 정수형으로 형변환 하여 더하기 \n",
    "total = int(input1) + int(input2)      \n",
    "print(\"두수의 합은 %s 입니다\" % total)"
   ]
  },
  {
   "cell_type": "code",
   "execution_count": 49,
   "metadata": {},
   "outputs": [],
   "source": [
    "# Q4\n",
    "# 다음 중 출력 결과가 다른 것 한 개를 골라 보자.\n",
    "\n",
    "# 보통은 공백없이 이어서 출력됨. \n",
    "# print(\"you\" \"need\" \"python\")   \n",
    "# print(\"you\"+\"need\"+\"python\")\n",
    "# print(\"you\", \"need\", \"python\")    -> 콤마로 이어 붙이면 이어 붙여진 문자열 사이에 공백이 들어간다.\n",
    "# print(\"\".join([\"you\", \"need\", \"python\"]))"
   ]
  },
  {
   "cell_type": "code",
   "execution_count": 52,
   "metadata": {},
   "outputs": [
    {
     "name": "stdout",
     "output_type": "stream",
     "text": [
      "Life is too short\n"
     ]
    }
   ],
   "source": [
    "# Q5.\n",
    "\n",
    "# 이 프로그램은 우리가 예상한 \"Life is too short\"라는 문장을 출력하지 않는다. \n",
    "# 우리가 예상한 값을 출력할 수 있도록 프로그램을 수정해 보자.\n",
    "\n",
    "# 쓰기 모드로 열기\n",
    "f1 = open(\"test.txt\", 'w')\n",
    "f1.write(\"Life is too short\")\n",
    "#객체를 닫아 주어야 한다!\n",
    "f1.close()\n",
    "\n",
    "# 읽기 모드로 열기\n",
    "f2 = open(\"test.txt\", 'r')\n",
    "# 읽어 오기 \n",
    "print(f2.read())"
   ]
  },
  {
   "cell_type": "code",
   "execution_count": 56,
   "metadata": {},
   "outputs": [
    {
     "name": "stdout",
     "output_type": "stream",
     "text": [
      "저장할 내용을 입력하세요:11\n"
     ]
    }
   ],
   "source": [
    "# Q6.\n",
    "\n",
    "# 사용자의 입력을 파일(test.txt)에 저장하는 프로그램을 작성해 보자.\n",
    "\n",
    "text = input(\"저장할 내용을 입력하세요:\")\n",
    "f1 = open('test.txt', 'a')   # 내용을 추가하기 위해서 'a'를 사용\n",
    "f1.write(text)\n",
    "f1.write(\"\\n\")             # 입력된 내용을 줄 단위로 구분하기 위해 줄 바꿈 문자 삽입\n",
    "f1.close()"
   ]
  },
  {
   "cell_type": "code",
   "execution_count": 60,
   "metadata": {},
   "outputs": [],
   "source": [
    "# Q7.\n",
    "# Life is too short\n",
    "# you need java\n",
    "# 다음과 같은 내용을 지닌 파일 test.txt가 있다. \n",
    "# 이 파일의 내용 중 \"java\"라는 문자열을 \"python\"으로 바꾸어서 저장해 보자. replace 함수 사용!\n",
    "\n",
    "#일단 읽기 모드로 열고 값을 가져오고 연결 닫기.\n",
    "f = open('test.txt', 'r')\n",
    "text = f.read()\n",
    "f.close()\n",
    "# replace 를 사용해 java를 python 으로 바꾼다,\n",
    "text = text.replace('java', 'python')\n",
    "\n",
    "# 값 확인\n",
    "f = open('test.txt', 'w')\n",
    "f.write(text)\n",
    "f.close()"
   ]
  }
 ],
 "metadata": {
  "kernelspec": {
   "display_name": "Python 3",
   "language": "python",
   "name": "python3"
  },
  "language_info": {
   "codemirror_mode": {
    "name": "ipython",
    "version": 3
   },
   "file_extension": ".py",
   "mimetype": "text/x-python",
   "name": "python",
   "nbconvert_exporter": "python",
   "pygments_lexer": "ipython3",
   "version": "3.7.4"
  }
 },
 "nbformat": 4,
 "nbformat_minor": 2
}
