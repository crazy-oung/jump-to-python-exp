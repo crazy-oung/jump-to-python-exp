{
 "cells": [
  {
   "cell_type": "code",
   "execution_count": 7,
   "metadata": {},
   "outputs": [
    {
     "name": "stdout",
     "output_type": "stream",
     "text": [
      "10\n",
      "10\n",
      "3\n"
     ]
    }
   ],
   "source": [
    "# Q1\n",
    "# 다음은 Calculator 클래스이다.\n",
    "\n",
    "# class Calculator:\n",
    "#     def __init__(self):\n",
    "#         self.value = 0\n",
    "\n",
    "#     def add(self, val):\n",
    "#         self.value += val\n",
    "# 위 클래스를 상속하는 UpgradeCalculator를 만들고 값을 뺄 수 있는 minus 메서드를 추가해 보자. \n",
    "# 즉 다음과 같이 동작하는 클래스를 만들어야 한다.\n",
    "\n",
    "# cal = UpgradeCalculator()\n",
    "# cal.add(10)\n",
    "# cal.minus(7)\n",
    "\n",
    "# print(cal.value) # 10에서 7을 뺀 3을 출력\n",
    "\n",
    "class Calculator:\n",
    "    # 생성자\n",
    "    def __init__(self):\n",
    "        self.value = 0\n",
    "        \n",
    "    def add(self, val):\n",
    "        self.value += val\n",
    "        print(self.value)\n",
    "# 값을 빼는 메소드\n",
    "class UpgradeCalculator(Calculator):\n",
    "    def minus(self, val):\n",
    "        self.value -= val\n",
    "        print(self.value)\n",
    "        \n",
    "# calculator 객체 생성 \n",
    "cal = UpgradeCalculator()\n",
    "cal.add(10)\n",
    "cal.minus(7)\n",
    "\n"
   ]
  },
  {
   "cell_type": "code",
   "execution_count": 21,
   "metadata": {},
   "outputs": [
    {
     "name": "stdout",
     "output_type": "stream",
     "text": [
      "100\n"
     ]
    }
   ],
   "source": [
    "# Q2\n",
    "# 객체변수 value가 100 이상의 값은 가질 수 없도록 제한하는 MaxLimitCalculator 클래스를 만들어 보자. \n",
    "#즉 다음과 같이 동작해야 한다.\n",
    "\n",
    "# cal = MaxLimitCalculator()\n",
    "# cal.add(50) # 50 더하기\n",
    "# cal.add(60) # 60 더하기\n",
    "\n",
    "# print(cal.value) # 100 출력\n",
    "# 단 반드시 다음과 같은 Calculator 클래스를 상속해서 만들어야 한다.\n",
    "\n",
    "# class Calculator:\n",
    "#     def __init__(self):\n",
    "#         self.value = 0\n",
    "\n",
    "#     def add(self, val):\n",
    "#         self.value += val\n",
    "\n",
    "class Calculator:\n",
    "    # 생성자\n",
    "    def __init__(self):\n",
    "        self.value = 0\n",
    "    \n",
    "    def add(self, val):\n",
    "        self.value += val\n",
    "\n",
    "# Calculator를 상속받는 MaxLimitCalculator클래스\n",
    "class MaxLimitCalculator(Calculator):\n",
    "    # 메소드 오버라이딩 self는 부모 클래스 \n",
    "    def add(self, val):\n",
    "        self.value += val\n",
    "        # value 가 100 이넘으면 100에 고정. 100이상은 가질 수 없으니까 \n",
    "        if self.value >=100:\n",
    "            self.value = 100\n",
    "\n",
    "cal = MaxLimitCalculator()\n",
    "cal.add(50) # 50 더하기\n",
    "cal.add(60) # 60 더하기\n",
    "\n",
    "print(cal.value) # 100 출력"
   ]
  },
  {
   "cell_type": "code",
   "execution_count": 46,
   "metadata": {},
   "outputs": [
    {
     "name": "stdout",
     "output_type": "stream",
     "text": [
      "False\n",
      "True\n"
     ]
    }
   ],
   "source": [
    "# Q3 내장 함수를 이용해 보는 문제 \n",
    "# 다음 결과를 예측해 보자.\n",
    "\n",
    "# 하나.\n",
    "# all(x)는 반복 가능한(iterable) 자료형 x를 입력 인수로 받으며 \n",
    "# 이 x가 모두 참이면 True, 거짓이 하나라도 있으면 False를 돌려준다.\n",
    "print(all([1, 2, abs(-3)-3]))      # abs는 절댓값을 돌려주는 함수 그러므로 abs(-3)은 3을 돌려줌. 3-3 은 0 \n",
    "# all ([1, 2, 0]) 이 된다. 0 이있으므로 false를 돌려줌.\n",
    "\n",
    "# 둘.\n",
    "# chr()는 아스키(ASCII) 코드 값을 입력받아 그 코드에 해당하는 문자를 출력하는 함수\n",
    "# ord()는 문자의 아스키 코드 값을 돌려주는 함수\n",
    "print(chr(ord('a')) == 'a')   # ord('a') 는 95 아스키 코드 값. 얘를 다시 chr함수를 사용하면 이 코드에 해당하는 문자는 a\n",
    "# 그러므로 a == a 가 됨 so, true 출력."
   ]
  },
  {
   "cell_type": "code",
   "execution_count": 41,
   "metadata": {},
   "outputs": [
    {
     "data": {
      "text/plain": [
       "[1, 3, 8]"
      ]
     },
     "execution_count": 41,
     "metadata": {},
     "output_type": "execute_result"
    }
   ],
   "source": [
    "# Q4 음수를 모두 제거 \n",
    "# filter와 lambda를 사용하여 리스트 [1, -2, 3, -5, 8, -3]에서 음수를 모두 제거해 보자.\n",
    "# filter() 반환 값이 참인 것만 묶어서(걸러 내서) 돌려준다.\n",
    "# 리스트( 필터( 람다 x:  x가 0보다 큰 친구들만 뽑는다.) , 여기에서 (반복 가능한 자료값) ) \n",
    "list( filter( lambda x:x>0, [1, -2, 3, -5, 8, -3]) )\n",
    "\n",
    "# +) lambda: 함수를 생성할 때 사용하는 예약어로 def와 동일한 역할"
   ]
  },
  {
   "cell_type": "code",
   "execution_count": 43,
   "metadata": {},
   "outputs": [
    {
     "data": {
      "text/plain": [
       "234"
      ]
     },
     "execution_count": 43,
     "metadata": {},
     "output_type": "execute_result"
    }
   ],
   "source": [
    "# Q5. 16진수 문자열 변경하기 \n",
    "# 234라는 10진수의 16진수는 다음과 같이 구할 수 있다.\n",
    "\n",
    "# hex 는 16진수로 형변환.\n",
    "# >>> hex(234)\n",
    "# '0xea'\n",
    "# 이번에는 반대로 16진수 문자열 0xea를 10진수로 변경해 보자.\n",
    "\n",
    "# 정수형으로 16진수를 10진수 정수형으로 형변환 \n",
    "int('0xea', 16)"
   ]
  },
  {
   "cell_type": "code",
   "execution_count": 49,
   "metadata": {},
   "outputs": [
    {
     "data": {
      "text/plain": [
       "[3, 6, 9, 12]"
      ]
     },
     "execution_count": 49,
     "metadata": {},
     "output_type": "execute_result"
    }
   ],
   "source": [
    "# Q6\n",
    "# map과 lambda를 사용하여 [1, 2, 3, 4] 리스트의 각 요솟값에 \n",
    "# 3이 곱해진 리스트 [3, 6, 9, 12]를 만들어 보자.\n",
    "# 리스트( map( 람다 x:  x에 3을 곱한다.) , 여기에다가 (반복 가능한 자료값) ) \n",
    "# 위 Q4에서 사용한 filter는 걸러주기 \n",
    "\n",
    "#여기서 람다와 함께 사용한 map은 람다를 실행한 결괏값을 묶어서 돌려주기.!!\n",
    "# filter 사용하면 조건식이 들어감 다른점. map은 실행할 연산/코드\n",
    "list( map (lambda x:x*3, [1,2,3,4]) )"
   ]
  },
  {
   "cell_type": "code",
   "execution_count": 54,
   "metadata": {},
   "outputs": [
    {
     "name": "stdout",
     "output_type": "stream",
     "text": [
      "max: 7 min: -8\n",
      "max + min =  -1\n"
     ]
    }
   ],
   "source": [
    "# Q7\n",
    "# 다음 리스트의 최댓값과 최솟값의 합을 구해 보자.\n",
    "\n",
    "# [-8, 2, 7, 5, -3, 5, 0, 1]\n",
    "a = [-8, 2, 7, 5, -3, 5, 0, 1];\n",
    "\n",
    "#내장함수 사용\n",
    "# max로 최대값 돌려받기 , min 으로 최소값 돌려 받기 \n",
    "print(\"max:\",max(a), \"min:\",min(a))\n",
    "# 두 수의 합\n",
    "print(\"max + min = \",max(a)+min(a))"
   ]
  },
  {
   "cell_type": "code",
   "execution_count": 56,
   "metadata": {},
   "outputs": [
    {
     "data": {
      "text/plain": [
       "5.6667"
      ]
     },
     "execution_count": 56,
     "metadata": {},
     "output_type": "execute_result"
    }
   ],
   "source": [
    "# Q8\n",
    "# 17 / 3의 결과는 다음과 같다.\n",
    "\n",
    "# >>> 17 / 3\n",
    "# 5.666666666666667\n",
    "# 위와 같은 결괏값 5.666666666666667을 소숫점 4자리까지만 반올림하여 표시해 보자.\n",
    "\n",
    "# 내장 함수 \n",
    "# round( 소수, 자릿수)\n",
    "round(17/3 , 4)\n"
   ]
  },
  {
   "cell_type": "code",
   "execution_count": 64,
   "metadata": {},
   "outputs": [],
   "source": [
    "# Q9\n",
    "# 다음과 같이 실행할 때 입력값을 모두 더하여 출력하는 스크립트(C:\\doit\\myargv.py)를 작성해 보자.\n",
    "\n",
    "# C:\\> cd doit\n",
    "# C:\\doit> python myargv.py 1 2 3 4 5 6 7 8 9 10\n",
    "# 55\n",
    "# ※ 외장 함수 sys.argv를 사용해 보자.\n",
    "\n",
    "import sys\n",
    "\n",
    "numbers = sys.argv[1:] # 파일 이름을 제외한 명령 행의 모든 입력\n",
    "\n",
    "result = 0\n",
    "for number in numbers:\n",
    "    result += int(number)\n",
    "print(result)\n",
    "# doit 폴더에 코드 저장후 아나콘다 cmd에서 실행 "
   ]
  },
  {
   "cell_type": "code",
   "execution_count": 69,
   "metadata": {},
   "outputs": [
    {
     "name": "stdout",
     "output_type": "stream",
     "text": [
      " C 드라이브의 볼륨에는 이름이 없습니다.\n",
      " 볼륨 일련 번호: 84A2-5076\n",
      "\n",
      " c:\\doit 디렉터리\n",
      "\n",
      "2019-10-28  오후 03:23    <DIR>          .\n",
      "2019-10-28  오후 03:23    <DIR>          ..\n",
      "2019-10-28  오후 03:22               218 myargv.py\n",
      "2019-10-28  오후 03:18                52 __init__.py\n",
      "               2개 파일                 270 바이트\n",
      "               2개 디렉터리  219,619,385,344 바이트 남음\n",
      "\n"
     ]
    }
   ],
   "source": [
    "# Q10\n",
    "# os 모듈을 사용하여 다음과 같이 동작하도록 코드를 작성해 보자.\n",
    "\n",
    "# C:\\doit 디렉터리로 이동한다.\n",
    "# dir 명령을 실행하고 그 결과를 변수에 담는다.\n",
    "# dir 명령의 결과를 출력한다.\n",
    "\n",
    "# os 모듈 import\n",
    "import os\n",
    "# 모듈내 함수 (외장함수) chdir을 이용해 현재 디렉토리 변경\n",
    "os.chdir(\"c:/doit\")\n",
    "# DIR 명령의 실행 결과를 result에 저장\n",
    "result = os.popen(\"dir\")\n",
    "# 출력 \n",
    "print(result.read())"
   ]
  },
  {
   "cell_type": "code",
   "execution_count": 72,
   "metadata": {},
   "outputs": [
    {
     "data": {
      "text/plain": [
       "['c:/doit\\\\myargv.py', 'c:/doit\\\\__init__.py']"
      ]
     },
     "execution_count": 72,
     "metadata": {},
     "output_type": "execute_result"
    }
   ],
   "source": [
    "# Q11\n",
    "# glob 모듈을 사용하여 C:\\doit 디렉터리의 파일 중 확장자가 .py인 파일만 출력하는 프로그램을 작성해 보자.\n",
    "\n",
    "import glob \n",
    "# glob 함수를 통해 c:/doit의 확장자가 py인 파일만 출력 \n",
    "glob.glob(\"c:/doit/*.py\")"
   ]
  },
  {
   "cell_type": "code",
   "execution_count": 74,
   "metadata": {},
   "outputs": [
    {
     "data": {
      "text/plain": [
       "'2019/10/28 15:35:56'"
      ]
     },
     "execution_count": 74,
     "metadata": {},
     "output_type": "execute_result"
    }
   ],
   "source": [
    "# Q12\n",
    "# time 모듈을 사용하여 현재 날짜와 시간을 다음과 같은 형식으로 출력해 보자.\n",
    "\n",
    "# 2018/04/03 17:20:32\n",
    "\n",
    "# 타임 모듈 임포트 \n",
    "import time\n",
    "\n",
    "time.strftime(\"%Y/%m/%d %H:%M:%S\")   #년 월 일 시 분 초 \n"
   ]
  },
  {
   "cell_type": "code",
   "execution_count": 117,
   "metadata": {},
   "outputs": [
    {
     "name": "stdout",
     "output_type": "stream",
     "text": [
      "[15, 28, 42, 31, 34, 1]\n"
     ]
    }
   ],
   "source": [
    "# Q13\n",
    "# random 모듈을 사용하여 로또 번호(1~45 사이의 숫자 6개)를 생성해 보자(단 중복된 숫자가 있으면 안 됨).\n",
    "\n",
    "import random\n",
    "# 1~45(range함수 사용) 중 6개의 숫자를 샘플링(sample함수 사용 = 중복 없음). \n",
    "lotto = random.sample(range(1,45), 6)   \n",
    "print(lotto)"
   ]
  }
 ],
 "metadata": {
  "kernelspec": {
   "display_name": "Python 3",
   "language": "python",
   "name": "python3"
  },
  "language_info": {
   "codemirror_mode": {
    "name": "ipython",
    "version": 3
   },
   "file_extension": ".py",
   "mimetype": "text/x-python",
   "name": "python",
   "nbconvert_exporter": "python",
   "pygments_lexer": "ipython3",
   "version": "3.7.4"
  }
 },
 "nbformat": 4,
 "nbformat_minor": 2
}
