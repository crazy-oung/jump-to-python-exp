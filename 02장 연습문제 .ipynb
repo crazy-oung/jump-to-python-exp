{
 "cells": [
  {
   "cell_type": "code",
   "execution_count": 21,
   "metadata": {},
   "outputs": [
    {
     "name": "stdout",
     "output_type": "stream",
     "text": [
      "Q1 홍길동 씨의 평균 점수\n",
      "80 75 55\n",
      "홍길동의 평균 점수:  70.0\n"
     ]
    }
   ],
   "source": [
    "#  Q1 홍길동 씨의 평균 점수\n",
    "print(\"Q1 홍길동 씨의 평균 점수\")\n",
    "kor = 80;\n",
    "eng = 75;\n",
    "math = 55;\n",
    "print(kor, eng, math)\n",
    "print(\"홍길동의 평균 점수: \", (kor+eng+math)/3)"
   ]
  },
  {
   "cell_type": "code",
   "execution_count": 22,
   "metadata": {
    "scrolled": true
   },
   "outputs": [
    {
     "name": "stdout",
     "output_type": "stream",
     "text": [
      "Q2 자연수 13이 홀수인지 짝수인지 판별\n",
      "홀수 입니다.\n"
     ]
    }
   ],
   "source": [
    "#  Q2 자연수 13이 홀수인지 짝수인지 판별\n",
    "print(\"Q2 자연수 13이 홀수인지 짝수인지 판별\")\n",
    "if (13%2):\n",
    "    # 홀수 일때 -> 1\n",
    " print(\"홀수 입니다.\")\n",
    "else:\n",
    "    # 짝수 일때 -> 0\n",
    " print(\"짝수 입니다.\")"
   ]
  },
  {
   "cell_type": "code",
   "execution_count": 18,
   "metadata": {},
   "outputs": [
    {
     "name": "stdout",
     "output_type": "stream",
     "text": [
      "Q3 홍길동 씨의 주민등록번호\n",
      "881120\n",
      "1068234\n"
     ]
    }
   ],
   "source": [
    "#  Q3 홍길동 씨의 주민등록번호를 연월일(YYYYMMDD) 부분과 그 뒤의 숫자 부분으로 나누어 출력\n",
    "print(\"Q3 홍길동 씨의 주민등록번호\")\n",
    "num = \"881120-1068234\"\n",
    "# 6번째 까지 자르기\n",
    "yyyymmdd = num[:6]\n",
    "# 7번째 부터 쭉 가져오기\n",
    "back = num[7:]\n",
    "print(yyyymmdd)  \n",
    "print(back)       "
   ]
  },
  {
   "cell_type": "code",
   "execution_count": 20,
   "metadata": {},
   "outputs": [
    {
     "name": "stdout",
     "output_type": "stream",
     "text": [
      "Q4 주민등록번호에서 성별을 나타내는 숫자를 출력\n",
      "1\n"
     ]
    }
   ],
   "source": [
    "# Q4 주민등록번호에서 성별을 나타내는 숫자를 출력\n",
    "print(\"Q4 주민등록번호에서 성별을 나타내는 숫자를 출력\")\n",
    "num = \"881120-1068234\"\n",
    "# 문자열 인덱싱 성별을 나타내는 숫자는 7번째 \n",
    "gender = num[7]\n",
    "print(gender)  "
   ]
  },
  {
   "cell_type": "code",
   "execution_count": 37,
   "metadata": {},
   "outputs": [
    {
     "name": "stdout",
     "output_type": "stream",
     "text": [
      "Q5 문자열의 replace 함수를 사용하여 a#b#c#d로 바꿔서 출력\n",
      "a#b#c#d\n"
     ]
    }
   ],
   "source": [
    "# Q5 문자열의 replace 함수를 사용하여 a#b#c#d로 바꿔서 출력\n",
    "print(\"Q5 문자열의 replace 함수를 사용하여 a#b#c#d로 바꿔서 출력\")\n",
    "a = \"a:b:c:d\"\n",
    "# :를 #으로 바꿈\n",
    "replace = a.replace(\":\", \"#\")\n",
    "print(replace)  "
   ]
  },
  {
   "cell_type": "code",
   "execution_count": 40,
   "metadata": {},
   "outputs": [
    {
     "name": "stdout",
     "output_type": "stream",
     "text": [
      "Q6 [1, 3, 5, 4, 2] 리스트를 [5, 4, 3, 2, 1]로\n",
      "[1, 3, 5, 4, 2]\n",
      "[5, 4, 3, 2, 1]\n"
     ]
    }
   ],
   "source": [
    "# Q6 [1, 3, 5, 4, 2] 리스트를 [5, 4, 3, 2, 1]로\n",
    "print(\"Q6 [1, 3, 5, 4, 2] 리스트를 [5, 4, 3, 2, 1]로\")\n",
    "lis = [1,3,5,4,2]\n",
    "print(lis)\n",
    "# 내림차순으로 정렬 - 내장 함수 sort 와 reverse 사용 \n",
    "lis.sort( )\n",
    "lis.reverse( )\n",
    "print(lis) "
   ]
  },
  {
   "cell_type": "code",
   "execution_count": 42,
   "metadata": {},
   "outputs": [
    {
     "name": "stdout",
     "output_type": "stream",
     "text": [
      "Q7 ['Life', 'is', 'too', 'short'] 리스트를 Life is too short 문자열로 출력\n",
      "['Life', 'is', 'too', 'short']\n",
      "Life is too short\n"
     ]
    }
   ],
   "source": [
    "# Q7 ['Life', 'is', 'too', 'short'] 리스트를 Life is too short 문자열로 출력\n",
    "print(\"Q7 ['Life', 'is', 'too', 'short'] 리스트를 Life is too short 문자열로 출력\")\n",
    "Q7 = ['Life', 'is', 'too', 'short']\n",
    "print(Q7)\n",
    "# join 함수를 사용\n",
    "A = \" \".join(Q7)\n",
    "print(A) "
   ]
  },
  {
   "cell_type": "code",
   "execution_count": 45,
   "metadata": {},
   "outputs": [
    {
     "name": "stdout",
     "output_type": "stream",
     "text": [
      "Q8 (1,2,3) 튜플에 값 4를 추가하여 (1,2,3,4)를 만들어 출력\n",
      "(1, 2, 3)\n",
      "(1, 2, 3, 4)\n"
     ]
    }
   ],
   "source": [
    "# Q8 (1,2,3) 튜플에 값 4를 추가하여 (1,2,3,4)를 만들어 출력\n",
    "print(\"Q8 (1,2,3) 튜플에 값 4를 추가하여 (1,2,3,4)를 만들어 출력\")\n",
    "Q8 = (1, 2, 3)\n",
    "print(Q8)\n",
    "# 더하기 사용 \n",
    "Q8 = Q8 + (4,)\n",
    "print(Q8)"
   ]
  },
  {
   "cell_type": "code",
   "execution_count": 87,
   "metadata": {
    "scrolled": true
   },
   "outputs": [
    {
     "ename": "TypeError",
     "evalue": "unhashable type: 'list'",
     "output_type": "error",
     "traceback": [
      "\u001b[1;31m---------------------------------------------------------------------------\u001b[0m",
      "\u001b[1;31mTypeError\u001b[0m                                 Traceback (most recent call last)",
      "\u001b[1;32m<ipython-input-87-6be9532fec5c>\u001b[0m in \u001b[0;36m<module>\u001b[1;34m\u001b[0m\n\u001b[0;32m      6\u001b[0m \u001b[1;31m# a['name'] = 'python'        -> 네임키워드에 파이썬을 넣음 오류 X\u001b[0m\u001b[1;33m\u001b[0m\u001b[1;33m\u001b[0m\u001b[1;33m\u001b[0m\u001b[0m\n\u001b[0;32m      7\u001b[0m \u001b[1;31m# a[('a',)] = 'python'        -> 튜플 a 키워드에 파이썬을 넣음 오류 X\u001b[0m\u001b[1;33m\u001b[0m\u001b[1;33m\u001b[0m\u001b[1;33m\u001b[0m\u001b[0m\n\u001b[1;32m----> 8\u001b[1;33m \u001b[0ma\u001b[0m\u001b[1;33m[\u001b[0m\u001b[1;33m[\u001b[0m\u001b[1;36m1\u001b[0m\u001b[1;33m]\u001b[0m\u001b[1;33m]\u001b[0m \u001b[1;33m=\u001b[0m \u001b[1;34m'python'\u001b[0m\u001b[1;33m\u001b[0m\u001b[1;33m\u001b[0m\u001b[0m\n\u001b[0m\u001b[0;32m      9\u001b[0m \u001b[1;31m# a[250] = 'python'           -> 250 키워드에 파이썬을 넣음 오류 X\u001b[0m\u001b[1;33m\u001b[0m\u001b[1;33m\u001b[0m\u001b[1;33m\u001b[0m\u001b[0m\n\u001b[0;32m     10\u001b[0m \u001b[1;33m\u001b[0m\u001b[0m\n",
      "\u001b[1;31mTypeError\u001b[0m: unhashable type: 'list'"
     ]
    }
   ],
   "source": [
    "# Q9 오류가 발생하는 경우\n",
    "\n",
    "# 딕셔너리 선언\n",
    "a = dict() \n",
    "\n",
    "# a['name'] = 'python'        -> 네임키워드에 파이썬을 넣음 오류 X\n",
    "# a[('a',)] = 'python'        -> 튜플 a 키워드에 파이썬을 넣음 오류 X\n",
    "# a[[1]] = 'python'           -> 배열1키워드에 파이썬을 넣음 배열은 오류 0\n",
    "# a[250] = 'python'           -> 250 키워드에 파이썬을 넣음 오류 X\n",
    "\n",
    "# 딕셔너리의 키워드로 설정하려면 값이 변하지 않아야 한다. \n",
    "# 문자열 , 튜플, 숫자는 고정되어 있지만 리스트 안에 존재하는 요소값은 고정되어 있지 않고 변할 수 있다. \n",
    "# 그러므로 오류 unhashable type: 'list'\n",
    "\n",
    "# a 출력\n",
    "a \n"
   ]
  },
  {
   "cell_type": "code",
   "execution_count": 91,
   "metadata": {},
   "outputs": [
    {
     "name": "stdout",
     "output_type": "stream",
     "text": [
      "Q10 딕셔너리 a에서 'B'에 해당되는 값을 추출\n",
      "80\n"
     ]
    }
   ],
   "source": [
    "# Q10 딕셔너리 a에서 'B'에 해당되는 값을 추출\n",
    "print(\"Q10 딕셔너리 a에서 'B'에 해당되는 값을 추출\")\n",
    "#딕셔너리 선언\n",
    "a = {'A':90, 'B':80, 'C':70}\n",
    "# 딕셔너리에서 가져오기\n",
    "# print(a.get('B'))\n",
    "# pop 로 가져와보기\n",
    "print(a.pop('B'))"
   ]
  },
  {
   "cell_type": "code",
   "execution_count": 93,
   "metadata": {},
   "outputs": [
    {
     "name": "stdout",
     "output_type": "stream",
     "text": [
      "Q11 a 리스트에서 중복 숫자를 제거\n",
      "[1, 1, 1, 2, 2, 3, 3, 3, 4, 4, 5]\n",
      "[1, 2, 3, 4, 5]\n"
     ]
    }
   ],
   "source": [
    "# Q11 a 리스트에서 중복 숫자를 제거\n",
    "print(\"Q11 a 리스트에서 중복 숫자를 제거\")\n",
    "a = [1, 1, 1, 2, 2, 3, 3, 3, 4, 4, 5]\n",
    "print(a)\n",
    "# 집합자료형으로 변환 집합으로 바꾸면 종류별로 하나씩만 생김 \n",
    "aSet = set(a)\n",
    "# 집합을 리스트로 형변환\n",
    "result = list(aSet) \n",
    "print(result)       "
   ]
  },
  {
   "cell_type": "code",
   "execution_count": 105,
   "metadata": {},
   "outputs": [
    {
     "name": "stdout",
     "output_type": "stream",
     "text": [
      "Q12 이런 결과가 오는 이유\n",
      "[1, 4, 3]\n",
      "또바꿈! [1, 1, 3]\n"
     ]
    }
   ],
   "source": [
    "# Q12 이런 결과가 오는 이유\n",
    "print(\"Q12 이런 결과가 오는 이유\")\n",
    "a = b = [1, 2, 3]  # a= b 하면 a와 b가 가리키는 곳이 같아짐.\n",
    "a[1] = 4  # a 두번째 방에 4를 넣음.\n",
    "print(b)  # 그러므로 같은 결과가 나오게 된다. b를 기준으로 바뀌어도 a도 바뀐다.\n",
    "b[1] = 1;\n",
    "print(\"또바꿈!\",a)"
   ]
  }
 ],
 "metadata": {
  "kernelspec": {
   "display_name": "Python 3",
   "language": "python",
   "name": "python3"
  },
  "language_info": {
   "codemirror_mode": {
    "name": "ipython",
    "version": 3
   },
   "file_extension": ".py",
   "mimetype": "text/x-python",
   "name": "python",
   "nbconvert_exporter": "python",
   "pygments_lexer": "ipython3",
   "version": "3.7.4"
  }
 },
 "nbformat": 4,
 "nbformat_minor": 2
}
